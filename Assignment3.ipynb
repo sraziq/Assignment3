{
 "cells": [
  {
   "cell_type": "markdown",
   "metadata": {},
   "source": [
    "## Assignment 2\n",
    "## Author : Raziq Ahmad Saudagar"
   ]
  },
  {
   "cell_type": "markdown",
   "metadata": {},
   "source": [
    "## Task1"
   ]
  },
  {
   "cell_type": "markdown",
   "metadata": {},
   "source": [
    "1. Write a function to compute 5/0 and use try/except to catch the exceptions. "
   ]
  },
  {
   "cell_type": "code",
   "execution_count": 1,
   "metadata": {},
   "outputs": [],
   "source": [
    "def myfun():\n",
    "    try:\n",
    "        a= 5/0\n",
    "    except :\n",
    "        print(\"can not devide by zero\")"
   ]
  },
  {
   "cell_type": "code",
   "execution_count": 2,
   "metadata": {},
   "outputs": [
    {
     "name": "stdout",
     "output_type": "stream",
     "text": [
      "can not devide by zero\n"
     ]
    }
   ],
   "source": [
    "myfun()"
   ]
  },
  {
   "cell_type": "markdown",
   "metadata": {},
   "source": [
    "2. Implement a Python program to generate all sentences where subject is in [\"Americans\", \"Indians\"] and verb is in [\"Play\", \"watch\"] and the object is in [\"Baseball\",\"cricket\"].  \n",
    "Hint: Subject,Verb and Object should be declared in the program as shown below.  \n",
    "subjects=[\"Americans \",\"Indians\"]  \n",
    "verbs=[\"play\",\"watch\"]  \n",
    "objects=[\"Baseball\",\"Cricket\"] "
   ]
  },
  {
   "cell_type": "markdown",
   "metadata": {},
   "source": [
    "Output should come as below:  \n",
    "Americans  play Baseball.  \n",
    "Americans  play Cricket.  \n",
    "Americans  watch Baseball.   \n",
    "Americans  watch Cricket.   \n",
    "Indians play Baseball.   \n",
    "Indians play Cricket.   \n",
    "Indians watch Baseball.   \n",
    "Indians watch Cricket. "
   ]
  },
  {
   "cell_type": "code",
   "execution_count": 6,
   "metadata": {},
   "outputs": [
    {
     "name": "stdout",
     "output_type": "stream",
     "text": [
      "Americans  play Baseball\n",
      "Americans  play Cricket\n",
      "Americans  watch Baseball\n",
      "Americans  watch Cricket\n",
      "Indians play Baseball\n",
      "Indians play Cricket\n",
      "Indians watch Baseball\n",
      "Indians watch Cricket\n"
     ]
    }
   ],
   "source": [
    "subjects=[\"Americans \",\"Indians\"]  \n",
    "verbs=[\"play\",\"watch\"]  \n",
    "objects=[\"Baseball\",\"Cricket\"] \n",
    "\n",
    "for sub in subjects:\n",
    "    for ver in verbs:\n",
    "        for obj in objects:\n",
    "            print(sub+' '+ver+' '+obj)"
   ]
  },
  {
   "cell_type": "markdown",
   "metadata": {},
   "source": [
    "## Task 2:"
   ]
  },
  {
   "cell_type": "markdown",
   "metadata": {},
   "source": [
    "Write a function so that the columns of the output matrix are powers of the input vector.  \n",
    "The order of the powers is determined by the increasing boolean argument. Specifically, when              increasing is False, the i-th output column is the input vector raised element-wise to the power                of N - i - 1.   \n",
    "HINT: Such a matrix with a geometric progression in each row is named for Alexandre               Theophile Vandermonde.   "
   ]
  },
  {
   "cell_type": "code",
   "execution_count": 8,
   "metadata": {},
   "outputs": [],
   "source": [
    "import numpy as np"
   ]
  },
  {
   "cell_type": "code",
   "execution_count": 28,
   "metadata": {},
   "outputs": [],
   "source": [
    "x = np.array([1, 2, 3, 5])\n",
    "y = np.array([2,4,6,8,10])"
   ]
  },
  {
   "cell_type": "code",
   "execution_count": 34,
   "metadata": {},
   "outputs": [],
   "source": [
    "def myVander(x,N, incr):\n",
    "    if(incr == True):\n",
    "        myMatrix = np.column_stack([x**(N-1-i) for i in range(N)])\n",
    "    else:\n",
    "        myMatrix = np.column_stack([x**(i) for i in range(N)])\n",
    "    print(myMatrix)\n",
    "    \n",
    " "
   ]
  },
  {
   "cell_type": "code",
   "execution_count": 35,
   "metadata": {},
   "outputs": [
    {
     "name": "stdout",
     "output_type": "stream",
     "text": [
      "[[  1   1   1   1]\n",
      " [  8   4   2   1]\n",
      " [ 27   9   3   1]\n",
      " [125  25   5   1]]\n"
     ]
    }
   ],
   "source": [
    "myVander(x,4,True)"
   ]
  },
  {
   "cell_type": "code",
   "execution_count": 36,
   "metadata": {},
   "outputs": [
    {
     "name": "stdout",
     "output_type": "stream",
     "text": [
      "[[  1   1   1   1]\n",
      " [  1   2   4   8]\n",
      " [  1   3   9  27]\n",
      " [  1   5  25 125]]\n"
     ]
    }
   ],
   "source": [
    "myVander(x,4,False)"
   ]
  },
  {
   "cell_type": "code",
   "execution_count": 38,
   "metadata": {},
   "outputs": [
    {
     "name": "stdout",
     "output_type": "stream",
     "text": [
      "[[    1     2     4     8    16]\n",
      " [    1     4    16    64   256]\n",
      " [    1     6    36   216  1296]\n",
      " [    1     8    64   512  4096]\n",
      " [    1    10   100  1000 10000]]\n"
     ]
    }
   ],
   "source": [
    "myVander(y,5,False)"
   ]
  },
  {
   "cell_type": "code",
   "execution_count": null,
   "metadata": {},
   "outputs": [],
   "source": [
    "myVander(y,5,False)"
   ]
  },
  {
   "cell_type": "code",
   "execution_count": 11,
   "metadata": {},
   "outputs": [
    {
     "name": "stdout",
     "output_type": "stream",
     "text": [
      "Help on function vander in module numpy.lib.twodim_base:\n",
      "\n",
      "vander(x, N=None, increasing=False)\n",
      "    Generate a Vandermonde matrix.\n",
      "    \n",
      "    The columns of the output matrix are powers of the input vector. The\n",
      "    order of the powers is determined by the `increasing` boolean argument.\n",
      "    Specifically, when `increasing` is False, the `i`-th output column is\n",
      "    the input vector raised element-wise to the power of ``N - i - 1``. Such\n",
      "    a matrix with a geometric progression in each row is named for Alexandre-\n",
      "    Theophile Vandermonde.\n",
      "    \n",
      "    Parameters\n",
      "    ----------\n",
      "    x : array_like\n",
      "        1-D input array.\n",
      "    N : int, optional\n",
      "        Number of columns in the output.  If `N` is not specified, a square\n",
      "        array is returned (``N = len(x)``).\n",
      "    increasing : bool, optional\n",
      "        Order of the powers of the columns.  If True, the powers increase\n",
      "        from left to right, if False (the default) they are reversed.\n",
      "    \n",
      "        .. versionadded:: 1.9.0\n",
      "    \n",
      "    Returns\n",
      "    -------\n",
      "    out : ndarray\n",
      "        Vandermonde matrix.  If `increasing` is False, the first column is\n",
      "        ``x^(N-1)``, the second ``x^(N-2)`` and so forth. If `increasing` is\n",
      "        True, the columns are ``x^0, x^1, ..., x^(N-1)``.\n",
      "    \n",
      "    See Also\n",
      "    --------\n",
      "    polynomial.polynomial.polyvander\n",
      "    \n",
      "    Examples\n",
      "    --------\n",
      "    >>> x = np.array([1, 2, 3, 5])\n",
      "    >>> N = 3\n",
      "    >>> np.vander(x, N)\n",
      "    array([[ 1,  1,  1],\n",
      "           [ 4,  2,  1],\n",
      "           [ 9,  3,  1],\n",
      "           [25,  5,  1]])\n",
      "    \n",
      "    >>> np.column_stack([x**(N-1-i) for i in range(N)])\n",
      "    array([[ 1,  1,  1],\n",
      "           [ 4,  2,  1],\n",
      "           [ 9,  3,  1],\n",
      "           [25,  5,  1]])\n",
      "    \n",
      "    >>> x = np.array([1, 2, 3, 5])\n",
      "    >>> np.vander(x)\n",
      "    array([[  1,   1,   1,   1],\n",
      "           [  8,   4,   2,   1],\n",
      "           [ 27,   9,   3,   1],\n",
      "           [125,  25,   5,   1]])\n",
      "    >>> np.vander(x, increasing=True)\n",
      "    array([[  1,   1,   1,   1],\n",
      "           [  1,   2,   4,   8],\n",
      "           [  1,   3,   9,  27],\n",
      "           [  1,   5,  25, 125]])\n",
      "    \n",
      "    The determinant of a square Vandermonde matrix is the product\n",
      "    of the differences between the values of the input vector:\n",
      "    \n",
      "    >>> np.linalg.det(np.vander(x))\n",
      "    48.000000000000043\n",
      "    >>> (5-3)*(5-2)*(5-1)*(3-2)*(3-1)*(2-1)\n",
      "    48\n",
      "\n"
     ]
    }
   ],
   "source": [
    "help(np.vander)"
   ]
  }
 ],
 "metadata": {
  "kernelspec": {
   "display_name": "Python 3",
   "language": "python",
   "name": "python3"
  },
  "language_info": {
   "codemirror_mode": {
    "name": "ipython",
    "version": 3
   },
   "file_extension": ".py",
   "mimetype": "text/x-python",
   "name": "python",
   "nbconvert_exporter": "python",
   "pygments_lexer": "ipython3",
   "version": "3.7.0"
  }
 },
 "nbformat": 4,
 "nbformat_minor": 2
}
